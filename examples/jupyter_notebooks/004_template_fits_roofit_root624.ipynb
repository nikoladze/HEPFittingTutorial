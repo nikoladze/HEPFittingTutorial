{
 "cells": [
  {
   "cell_type": "markdown",
   "metadata": {},
   "source": [
    "# Simple template fitting using RooFit"
   ]
  },
  {
   "cell_type": "markdown",
   "metadata": {},
   "source": [
    "<div class=\"alert alert-block alert-danger\">\n",
    "    <b>Note for contributors:</b> Remember to run <code>Kernel > Restart & Clear output</code> before adding any changes to git!</div>"
   ]
  },
  {
   "cell_type": "markdown",
   "metadata": {},
   "source": [
    "In this tutorial we will perform template fits with `RooFit`. It's a statistic module build on top of (and included in) ROOT. For further information see\n",
    "\n",
    "* [The RooFit section in the ROOT manual](https://root.cern/manual/roofit/) (also contains further links)\n",
    "* [The RooFit example tutorials](https://root.cern/doc/v624/group__tutorial__roofit.html) - This is most of the time the first ressource to look at (make sure to select the right ROOT version on top)\n",
    "    * e.g. relevant for this tutorial: https://root.cern/doc/v624/rf201__composite_8py.html\n",
    "* [This presentation from 2008](https://root.cern/download/roofit-strasbourg-v10.pdf) - The syntax might be a partially outdated, but it's the quickest way to learn about the underlying concepts\n",
    "\n",
    "<div class=\"alert alert-block alert-warning\">\n",
    "    <b>Note:</b> This tutorial is for <b>ROOT version 6.24</b>. Starting from ROOT version 6.26 the interface to RooFit became more pythonic.<br>\n",
    "    Have a look at <a href='004_v2_template_fits_roofit_root626.ipynb'>004_v2_template_fits_roofit_root626.ipynb</a> for a version of this notebook for ROOT >= 6.26\n",
    "</div>"
   ]
  },
  {
   "cell_type": "code",
   "execution_count": null,
   "metadata": {
    "ExecuteTime": {
     "end_time": "2020-04-22T14:13:40.498401Z",
     "start_time": "2020-04-22T14:13:37.675901Z"
    },
    "tags": []
   },
   "outputs": [],
   "source": [
    "import ROOT\n",
    "\n",
    "from ROOT import (\n",
    "    RooArgSet, RooArgList, RooRealVar, RooGaussian, RooChebychev, RooAddPdf\n",
    ")\n",
    "\n",
    "import numpy as np\n",
    "import pandas as pd\n",
    "\n",
    "%matplotlib inline"
   ]
  },
  {
   "cell_type": "code",
   "execution_count": 46,
   "metadata": {
    "ExecuteTime": {
     "end_time": "2020-04-22T14:13:40.520138Z",
     "start_time": "2020-04-22T14:13:40.501471Z"
    }
   },
   "outputs": [],
   "source": [
    "# Create some test data\n",
    "\n",
    "data = pd.DataFrame(\n",
    "    np.concatenate((\n",
    "        np.random.normal(-2, 1, 1000), \n",
    "        np.random.normal(3, 2, 1000),\n",
    "        -5 + 10* np.random.random_sample(2000)\n",
    "    )),\n",
    "    columns=[\"x\"]\n",
    ")"
   ]
  },
  {
   "cell_type": "markdown",
   "metadata": {},
   "source": [
    "<div class=\"alert alert-block alert-info\">\n",
    "    <b>Note:</b> We will fit the <b>distribution</b> of the above data, so note the conceptual difference to the <code>x, y</code> data from the tutorial <code>fitting_curves_data</code>.</div>"
   ]
  },
  {
   "cell_type": "markdown",
   "metadata": {},
   "source": [
    "<div class=\"alert alert-block alert-success\">\n",
    "<b>Question [medium]:</b> Can you guess what the corresponding histogram to this data will look like and why?</div>"
   ]
  },
  {
   "cell_type": "markdown",
   "metadata": {},
   "source": [
    "No? Then cheat and look at the histogram:"
   ]
  },
  {
   "cell_type": "code",
   "execution_count": null,
   "metadata": {
    "ExecuteTime": {
     "end_time": "2020-04-22T14:13:40.858719Z",
     "start_time": "2020-04-22T14:13:40.522064Z"
    },
    "tags": []
   },
   "outputs": [],
   "source": [
    "data.hist(bins=30)"
   ]
  },
  {
   "cell_type": "markdown",
   "metadata": {},
   "source": [
    "## First try: Fit single gaussian as signal and line as background"
   ]
  },
  {
   "cell_type": "markdown",
   "metadata": {},
   "source": [
    "In RooFit we need to to define abstract quantities like observables as objects. So let's define our example observable `x` as a [`RooRealVar`](https://root.cern/doc/master/classRooRealVar.html) that ranges from -5 to 5:"
   ]
  },
  {
   "cell_type": "code",
   "execution_count": null,
   "metadata": {},
   "outputs": [],
   "source": [
    "x = RooRealVar(\"x\", \"Example observable\", -5, 5)"
   ]
  },
  {
   "cell_type": "markdown",
   "metadata": {},
   "source": [
    "Also, we need to create a `RooDataSet` for the observed data.\n",
    "\n",
    "For ROOT versions below 6.26 we have to load it from a ROOT TTree.\n",
    "\n",
    "We can use [`uproot`](https://uproot.readthedocs.io/) to convert back-and-forth between numpy/pandas and ROOT TTrees:"
   ]
  },
  {
   "cell_type": "code",
   "execution_count": null,
   "metadata": {
    "tags": []
   },
   "outputs": [],
   "source": [
    "import uproot"
   ]
  },
  {
   "cell_type": "code",
   "execution_count": null,
   "metadata": {
    "tags": []
   },
   "outputs": [],
   "source": [
    "with uproot.recreate(\"data_df.root\") as f:\n",
    "    f[\"tree\"] = data"
   ]
  },
  {
   "cell_type": "markdown",
   "metadata": {},
   "source": [
    "The other way round works as well:"
   ]
  },
  {
   "cell_type": "code",
   "execution_count": null,
   "metadata": {
    "tags": []
   },
   "outputs": [],
   "source": [
    "with uproot.open(\"data_df.root\") as f:\n",
    "    data_reloaded = f[\"tree\"].arrays(library=\"pd\").set_index(\"index\")"
   ]
  },
  {
   "cell_type": "code",
   "execution_count": null,
   "metadata": {
    "tags": []
   },
   "outputs": [],
   "source": [
    "data_reloaded.x.hist(bins=30)"
   ]
  },
  {
   "cell_type": "markdown",
   "metadata": {},
   "source": [
    "Now we can load the `TTree` into a `RooDataSet`"
   ]
  },
  {
   "cell_type": "code",
   "execution_count": null,
   "metadata": {
    "tags": []
   },
   "outputs": [],
   "source": [
    "f = ROOT.TFile.Open(\"data_df.root\")\n",
    "tree = f.Get(\"tree\")\n",
    "dataset = ROOT.RooDataSet(\"data\", \"data\", tree, RooArgSet(x))"
   ]
  },
  {
   "cell_type": "markdown",
   "metadata": {},
   "source": [
    "The Gaussian model needs 2 further `RooRealVar` instances for it's parameters.\n",
    "\n",
    "Let's define the mean with a starting value of 0 and a range from -1 to 1 and the width starting with 1  and ranging from 0.1 to 10:"
   ]
  },
  {
   "cell_type": "code",
   "execution_count": null,
   "metadata": {},
   "outputs": [],
   "source": [
    "mean = RooRealVar(\"mean\", \"Mean of Gaussian\", 0, -1, 1)\n",
    "sigma = RooRealVar(\"sigma\", \"Width of Gaussian\", 1, 0.1, 10)"
   ]
  },
  {
   "cell_type": "markdown",
   "metadata": {},
   "source": [
    "We need to passs the observable and the parameters to the constructor of the Gaussian pdf"
   ]
  },
  {
   "cell_type": "code",
   "execution_count": null,
   "metadata": {},
   "outputs": [],
   "source": [
    "pdf_sig = RooGaussian(\"gauss\", \"Gaussian signal model\", x, mean, sigma)"
   ]
  },
  {
   "cell_type": "markdown",
   "metadata": {},
   "source": [
    "For the Background we use a straight line. Since the normalization is always implicitly done in RooFit we only need 1 parameter for this:"
   ]
  },
  {
   "cell_type": "code",
   "execution_count": null,
   "metadata": {},
   "outputs": [],
   "source": [
    "a1 = RooRealVar(\"a0\", \"parameter for linear background\", 0, -10, 10)\n",
    "pdf_bkg = RooChebychev(\"line\", \"Linear background model\", x, a1)"
   ]
  },
  {
   "cell_type": "markdown",
   "metadata": {},
   "source": [
    "<div class=\"alert alert-block alert-success\">\n",
    "<b>Question:</b> Why is the model for the straight line called 'Chebychev'?</div>"
   ]
  },
  {
   "cell_type": "markdown",
   "metadata": {},
   "source": [
    "Now we build a compound PDF from the two simple PDFs using [`RooAddPdf`](https://root.cern/doc/master/classRooAddPdf.html)."
   ]
  },
  {
   "cell_type": "markdown",
   "metadata": {},
   "source": [
    "<div class=\"alert alert-block alert-success\">\n",
    "<b>Question:</b> What is a PDF?</div>"
   ]
  },
  {
   "cell_type": "markdown",
   "metadata": {},
   "source": [
    "We also need parameters for the normalizations of the components. If we pass one parameter, this will be the fraction. If we pass 2 parameters this will be the absolute numbers of fitted events for each pdf. Since this is what we want to extract in the end we go for the 2 parameter form:"
   ]
  },
  {
   "cell_type": "code",
   "execution_count": null,
   "metadata": {},
   "outputs": [],
   "source": [
    "n_sig = RooRealVar(\"nsig\", \"Number of signal events\", 500, 0, 100000)\n",
    "n_bkg = RooRealVar(\"nbkg\", \"Number of background events\", 500, 0, 100000)\n",
    "pdf = RooAddPdf(\"pdf\", \"Gaussian Signal + linear Background\", RooArgList(pdf_sig, pdf_bkg), RooArgList(n_sig, n_bkg))"
   ]
  },
  {
   "cell_type": "markdown",
   "metadata": {},
   "source": [
    "Now we're ready to fit:"
   ]
  },
  {
   "cell_type": "code",
   "execution_count": null,
   "metadata": {
    "ExecuteTime": {
     "end_time": "2020-04-22T14:13:41.453677Z",
     "start_time": "2020-04-22T14:13:41.047718Z"
    },
    "tags": []
   },
   "outputs": [],
   "source": [
    "pdf.fitTo(dataset)"
   ]
  },
  {
   "cell_type": "markdown",
   "metadata": {},
   "source": [
    "Don't be deterred by the amount of output, but let's look at the results:"
   ]
  },
  {
   "cell_type": "code",
   "execution_count": null,
   "metadata": {
    "ExecuteTime": {
     "end_time": "2020-04-22T14:13:41.492265Z",
     "start_time": "2020-04-22T14:13:41.455755Z"
    }
   },
   "outputs": [],
   "source": [
    "pdf.getParameters(RooArgSet(x)).Print(\"v\")"
   ]
  },
  {
   "cell_type": "markdown",
   "metadata": {},
   "source": [
    "And plot:"
   ]
  },
  {
   "cell_type": "code",
   "execution_count": null,
   "metadata": {},
   "outputs": [],
   "source": [
    "frame = x.frame()\n",
    "dataset.plotOn(frame)\n",
    "pdf.plotOn(frame)\n",
    "\n",
    "c = ROOT.TCanvas()\n",
    "frame.Draw()\n",
    "c.Draw()"
   ]
  },
  {
   "cell_type": "markdown",
   "metadata": {},
   "source": [
    "<div class=\"alert alert-block alert-success\">\n",
    "<b>Question 2 [easy]:</b> Why are the results so terrible?</div>"
   ]
  },
  {
   "cell_type": "markdown",
   "metadata": {},
   "source": [
    "## Second try: Fit two gaussians as signal"
   ]
  },
  {
   "cell_type": "code",
   "execution_count": null,
   "metadata": {},
   "outputs": [],
   "source": [
    "mean1 = RooRealVar(\"mean1\", \"Mean of Gaussian 1\", -3, -5, 0)\n",
    "sigma1 = RooRealVar(\"sigma1\", \"Width of Gaussian 1\", 1, 0.01, 10)\n",
    "gauss1 = RooGaussian(\"gauss1\", \"Gaussian signal 1\", x, mean1, sigma1)\n",
    "\n",
    "mean2 = RooRealVar(\"mean2\", \"Mean of Gaussian 2\", 3, 0, 5)\n",
    "sigma2 = RooRealVar(\"sigma2\", \"Width of Gaussian 2\", 1, 0.01, 10)\n",
    "gauss2 = RooGaussian(\"gauss2\", \"Gaussian signal 2\", x, mean2, sigma2)\n",
    "\n",
    "frac1 = RooRealVar(\"frac1\", \"Fraction of gaussian 1 in signal\", 0.5, 0, 1)\n",
    "pdf_sig = RooAddPdf(\"pdf_sig\", \"Total Signal\", gauss1, gauss2, frac1)\n",
    "\n",
    "# keep old parameters for this\n",
    "pdf = RooAddPdf(\"pdf\", \"Gaussian Signal + linear Background\", RooArgList(pdf_sig, pdf_bkg), RooArgList(n_sig, n_bkg))"
   ]
  },
  {
   "cell_type": "code",
   "execution_count": null,
   "metadata": {
    "ExecuteTime": {
     "end_time": "2020-04-22T14:13:42.348051Z",
     "start_time": "2020-04-22T14:13:42.001790Z"
    },
    "run_control": {
     "marked": true
    },
    "tags": []
   },
   "outputs": [],
   "source": [
    "pdf.fitTo(dataset)"
   ]
  },
  {
   "cell_type": "code",
   "execution_count": null,
   "metadata": {
    "ExecuteTime": {
     "end_time": "2020-04-22T14:13:42.385421Z",
     "start_time": "2020-04-22T14:13:42.350093Z"
    }
   },
   "outputs": [],
   "source": [
    "pdf.getParameters(ROOT.RooArgSet(x)).Print(\"v\")"
   ]
  },
  {
   "cell_type": "code",
   "execution_count": null,
   "metadata": {
    "tags": []
   },
   "outputs": [],
   "source": [
    "from ROOT.RooFit import Components, LineColor, LineStyle, Name"
   ]
  },
  {
   "cell_type": "code",
   "execution_count": null,
   "metadata": {
    "ExecuteTime": {
     "end_time": "2020-04-22T14:13:42.553699Z",
     "start_time": "2020-04-22T14:13:42.387565Z"
    },
    "tags": []
   },
   "outputs": [],
   "source": [
    "frame = x.frame()\n",
    "\n",
    "dataset.plotOn(frame)\n",
    "pdf.plotOn(frame, Name(\"fit\"))\n",
    "\n",
    "# one has to keep a reference to these RooArgSet objects explicitly\n",
    "# there seems to be a bug that these objects may be deleted by python when ROOT still want's to use them\n",
    "# see https://root-forum.cern.ch/t/createintegral-gives-unexpected-result/32627 for a similar problem\n",
    "# should be fixed in ROOT 6.26\n",
    "ras_gauss1 = RooArgSet(gauss1)\n",
    "ras_gauss2 = RooArgSet(gauss2)\n",
    "ras_pdf_bkg = RooArgSet(pdf_bkg)\n",
    "\n",
    "pdf.plotOn(frame, Components(ras_gauss1), LineColor(ROOT.kRed), Name(\"g1\"))\n",
    "pdf.plotOn(frame, Components(ras_gauss2), LineColor(ROOT.kRed+1), Name(\"g2\"))\n",
    "pdf.plotOn(frame, Components(ras_pdf_bkg), LineStyle(ROOT.kDashed), Name(\"bkg\"))\n",
    "\n",
    "c = ROOT.TCanvas()\n",
    "\n",
    "frame.Draw()\n",
    "\n",
    "legend = ROOT.TLegend(0.9, 1, 0.9, 1)\n",
    "legend.AddEntry(\"fit\", \"Fit\")\n",
    "legend.AddEntry(\"g1\", \"Gaussian component\")\n",
    "legend.AddEntry(\"g2\", \"Gaussian component\")\n",
    "legend.AddEntry(\"bkg\", \"Background\")\n",
    "legend.SetLineWidth(0)\n",
    "legend.Draw()\n",
    "\n",
    "c.Draw()"
   ]
  },
  {
   "cell_type": "code",
   "execution_count": null,
   "metadata": {},
   "outputs": [],
   "source": [
    "dataset.Print(\"v\")"
   ]
  },
  {
   "cell_type": "markdown",
   "metadata": {},
   "source": [
    "## Exercise 1"
   ]
  },
  {
   "cell_type": "markdown",
   "metadata": {
    "ExecuteTime": {
     "end_time": "2020-04-22T13:54:32.164691Z",
     "start_time": "2020-04-22T13:54:32.157603Z"
    }
   },
   "source": [
    "<div class=\"alert alert-block alert-success\">\n",
    "<b>Exercise 1 [easy]:</b> Fit one gaussian for signal and a linear background model to the following dataset:\n",
    "</div>"
   ]
  },
  {
   "cell_type": "code",
   "execution_count": null,
   "metadata": {
    "ExecuteTime": {
     "end_time": "2020-04-22T14:13:42.584024Z",
     "start_time": "2020-04-22T14:13:42.555506Z"
    }
   },
   "outputs": [],
   "source": [
    "data2 = pd.DataFrame(\n",
    "    np.concatenate((\n",
    "        np.random.normal(-2, 1, 1000), \n",
    "        -5 + 10* np.random.random_sample(2000)\n",
    "    )),\n",
    "    columns=[\"x\"]\n",
    ")"
   ]
  },
  {
   "cell_type": "markdown",
   "metadata": {},
   "source": [
    "## Fixing templates from MC"
   ]
  },
  {
   "cell_type": "markdown",
   "metadata": {},
   "source": [
    "In the previous examples, we simply \"knew\" that our signal was shaped like a (two) Gaussian(s) and the background was linear.\n",
    "\n",
    "Usually however, the situation isn't as simple and we first have to learn how our signal and background looks like by looking at MC data. Remember that in MC we always know signal from background (it's simulated data after all).\n",
    "\n",
    "Thus, we can first fit our signal and background model to the MC, then fix the parameters. Now we have two \n",
    "PDFs $\\mathrm{pdf}_\\mathrm{sig}$ and $\\mathrm{pdf}_\\mathrm{bkg}$ and get the signal and background yields by\n",
    "fitting the data with $\\mu_\\mathrm{sig}\\mathrm{pdf}_\\mathrm{sig} + \\mu_\\mathrm{bkg}\\mathrm{pdf}_\\mathrm{bkg}$."
   ]
  },
  {
   "cell_type": "markdown",
   "metadata": {},
   "source": [
    "Let's create one helper function to create a RooDataset for `x` from a pandas dataframe:"
   ]
  },
  {
   "cell_type": "code",
   "execution_count": null,
   "metadata": {},
   "outputs": [],
   "source": [
    "x = ROOT.RooRealVar(\"x\", \"Example observable\", -5, 5)"
   ]
  },
  {
   "cell_type": "code",
   "execution_count": null,
   "metadata": {
    "tags": []
   },
   "outputs": [],
   "source": [
    "from tempfile import NamedTemporaryFile\n",
    "\n",
    "def to_roodataset(df):\n",
    "    with NamedTemporaryFile() as f:\n",
    "        with uproot.recreate(f.name) as uf:\n",
    "            uf[\"tree\"] = df\n",
    "        rf = ROOT.TFile.Open(f.name)\n",
    "        tree = rf.Get(\"tree\")\n",
    "        rds = ROOT.RooDataSet(\"\", \"\", tree, RooArgSet(x))\n",
    "        rds.convertToVectorStore()\n",
    "        return rds"
   ]
  },
  {
   "cell_type": "code",
   "execution_count": null,
   "metadata": {
    "ExecuteTime": {
     "end_time": "2020-04-22T14:16:44.240647Z",
     "start_time": "2020-04-22T14:16:44.214231Z"
    }
   },
   "outputs": [],
   "source": [
    "mc_signal = pd.DataFrame(\n",
    "    np.random.normal(-2, 1, 1000),\n",
    "    columns=[\"x\"]\n",
    ")\n",
    "\n",
    "mc_bkg = pd.DataFrame(\n",
    "    np.concatenate((\n",
    "        np.random.normal(2, 1, 1000), \n",
    "        -5 + 10* np.random.random_sample(2000)\n",
    "    )),\n",
    "    columns=[\"x\"]\n",
    ")\n",
    "\n",
    "data = pd.DataFrame(\n",
    "    np.concatenate((\n",
    "        np.random.normal(2, 1, int(1.2*1000)), \n",
    "        -5 + 10* np.random.random_sample(int(1.2*2000)),\n",
    "        np.random.normal(-2, 1, int(0.3*1000))\n",
    "    )),\n",
    "    columns=[\"x\"]\n",
    ")\n",
    "\n",
    "mc_signal_rds = to_roodataset(mc_signal)\n",
    "mc_bkg_rds = to_roodataset(mc_bkg)\n",
    "data_rds = to_roodataset(data)"
   ]
  },
  {
   "cell_type": "code",
   "execution_count": null,
   "metadata": {
    "ExecuteTime": {
     "end_time": "2020-04-22T14:16:45.775886Z",
     "start_time": "2020-04-22T14:16:45.452423Z"
    }
   },
   "outputs": [],
   "source": [
    "mc_signal.hist(bins=30)"
   ]
  },
  {
   "cell_type": "code",
   "execution_count": null,
   "metadata": {
    "ExecuteTime": {
     "end_time": "2020-04-22T14:16:47.058863Z",
     "start_time": "2020-04-22T14:16:46.788296Z"
    }
   },
   "outputs": [],
   "source": [
    "mc_bkg.hist(bins=30)"
   ]
  },
  {
   "cell_type": "code",
   "execution_count": null,
   "metadata": {},
   "outputs": [],
   "source": [
    "mean = ROOT.RooRealVar(\"mean\", \"Mean of Gaussian\", -2, -5, 0)\n",
    "sigma = ROOT.RooRealVar(\"sigma1\", \"Width of Gaussian\", 1, 0.01, 10)\n",
    "pdf_sig = ROOT.RooGaussian(\"gauss\", \"Gaussian signal\", x, mean, sigma)"
   ]
  },
  {
   "cell_type": "code",
   "execution_count": null,
   "metadata": {
    "ExecuteTime": {
     "end_time": "2020-04-22T14:16:48.333720Z",
     "start_time": "2020-04-22T14:16:48.305218Z"
    },
    "tags": []
   },
   "outputs": [],
   "source": [
    "pdf_sig.fitTo(mc_signal_rds)"
   ]
  },
  {
   "cell_type": "code",
   "execution_count": null,
   "metadata": {
    "ExecuteTime": {
     "end_time": "2020-04-22T14:16:49.514597Z",
     "start_time": "2020-04-22T14:16:49.420275Z"
    }
   },
   "outputs": [],
   "source": [
    "frame = x.frame()\n",
    "mc_signal_rds.plotOn(frame)\n",
    "pdf_sig.plotOn(frame)\n",
    "\n",
    "c = ROOT.TCanvas()\n",
    "frame.Draw()\n",
    "c.Draw()"
   ]
  },
  {
   "cell_type": "code",
   "execution_count": null,
   "metadata": {},
   "outputs": [],
   "source": [
    "for par in pdf_sig.getParameters(x):\n",
    "    par.setConstant(True)"
   ]
  },
  {
   "cell_type": "code",
   "execution_count": null,
   "metadata": {},
   "outputs": [],
   "source": [
    "pdf_sig.getParameters(x).Print(\"v\")"
   ]
  },
  {
   "cell_type": "code",
   "execution_count": null,
   "metadata": {},
   "outputs": [],
   "source": [
    "mean_bkg = ROOT.RooRealVar(\"mean_bkg\", \"Mean of Gaussian background component\", 2, 0, 5)\n",
    "sigma_bkg = ROOT.RooRealVar(\"sigma_bkg\", \"Width of Gaussian background component\", 1, 0.1, 10)\n",
    "gauss_bkg = ROOT.RooGaussian(\"gauss_bkg\", \"Gaussian background component\", x, mean_bkg, sigma_bkg)\n",
    "a0 = ROOT.RooRealVar(\"a0\", \"Parameter for linear background component\", 0, -10, 10)\n",
    "line = ROOT.RooChebychev(\"line\", \"Linear background compontent\", x, a0)\n",
    "frac = frac1 = ROOT.RooRealVar(\"frac\", \"Fraction of gaussian in background\", 0.5, 0, 1)\n",
    "pdf_bkg = ROOT.RooAddPdf(\"pdf_bkg\", \"Background\", gauss_bkg, line, frac)"
   ]
  },
  {
   "cell_type": "code",
   "execution_count": null,
   "metadata": {
    "ExecuteTime": {
     "end_time": "2020-04-22T14:16:53.335247Z",
     "start_time": "2020-04-22T14:16:53.138835Z"
    },
    "tags": []
   },
   "outputs": [],
   "source": [
    "pdf_bkg.fitTo(mc_bkg_rds)"
   ]
  },
  {
   "cell_type": "code",
   "execution_count": null,
   "metadata": {
    "ExecuteTime": {
     "end_time": "2020-04-22T14:16:54.462858Z",
     "start_time": "2020-04-22T14:16:54.330521Z"
    }
   },
   "outputs": [],
   "source": [
    "frame = x.frame()\n",
    "mc_bkg_rds.plotOn(frame)\n",
    "pdf_bkg.plotOn(frame)\n",
    "\n",
    "c = ROOT.TCanvas()\n",
    "frame.Draw()\n",
    "c.Draw()"
   ]
  },
  {
   "cell_type": "code",
   "execution_count": null,
   "metadata": {},
   "outputs": [],
   "source": [
    "for par in pdf_bkg.getParameters(x):\n",
    "    par.setConstant(True)"
   ]
  },
  {
   "cell_type": "code",
   "execution_count": null,
   "metadata": {
    "ExecuteTime": {
     "end_time": "2020-04-22T14:16:56.517537Z",
     "start_time": "2020-04-22T14:16:56.503584Z"
    }
   },
   "outputs": [],
   "source": [
    "pdf_bkg.getParameters(x).Print(\"v\")"
   ]
  },
  {
   "cell_type": "code",
   "execution_count": null,
   "metadata": {},
   "outputs": [],
   "source": [
    "nsig = ROOT.RooRealVar(\"nsig\", \"Number of signal events\", 1000, 0, 10000)\n",
    "nbkg = ROOT.RooRealVar(\"nbkg\", \"Number of background events\", 1000, 0, 10000)\n",
    "pdf = ROOT.RooAddPdf(\"pdf\", \"Signal + background\", RooArgList(pdf_sig, pdf_bkg), RooArgList(nsig, nbkg))"
   ]
  },
  {
   "cell_type": "code",
   "execution_count": null,
   "metadata": {
    "ExecuteTime": {
     "end_time": "2020-04-22T14:16:56.582830Z",
     "start_time": "2020-04-22T14:16:56.528231Z"
    }
   },
   "outputs": [],
   "source": [
    "pdf.fitTo(data_rds)"
   ]
  },
  {
   "cell_type": "code",
   "execution_count": null,
   "metadata": {},
   "outputs": [],
   "source": [
    "frame = x.frame()\n",
    "data_rds.plotOn(frame)\n",
    "pdf.plotOn(frame)\n",
    "\n",
    "c = ROOT.TCanvas()\n",
    "frame.Draw()\n",
    "c.Draw()"
   ]
  },
  {
   "cell_type": "code",
   "execution_count": null,
   "metadata": {
    "ExecuteTime": {
     "end_time": "2020-04-22T14:17:01.161121Z",
     "start_time": "2020-04-22T14:17:01.142243Z"
    }
   },
   "outputs": [],
   "source": [
    "pdf.getParameters(x).Print(\"v\")"
   ]
  },
  {
   "cell_type": "code",
   "execution_count": null,
   "metadata": {
    "ExecuteTime": {
     "end_time": "2020-04-22T14:17:04.142816Z",
     "start_time": "2020-04-22T14:17:04.128794Z"
    }
   },
   "outputs": [],
   "source": [
    "pdf_bkg.getParameters(x).Print(\"v\")"
   ]
  },
  {
   "cell_type": "code",
   "execution_count": null,
   "metadata": {},
   "outputs": [],
   "source": [
    "pdf_sig.getParameters(x).Print(\"v\")"
   ]
  }
 ],
 "metadata": {
  "kernelspec": {
   "display_name": "Python 3 (ipykernel)",
   "language": "python",
   "name": "python3"
  },
  "language_info": {
   "codemirror_mode": {
    "name": "ipython",
    "version": 3
   },
   "file_extension": ".py",
   "mimetype": "text/x-python",
   "name": "python",
   "nbconvert_exporter": "python",
   "pygments_lexer": "ipython3",
   "version": "3.9.0"
  },
  "toc": {
   "base_numbering": 1,
   "nav_menu": {},
   "number_sections": true,
   "sideBar": true,
   "skip_h1_title": false,
   "title_cell": "Table of Contents",
   "title_sidebar": "Contents",
   "toc_cell": false,
   "toc_position": {},
   "toc_section_display": true,
   "toc_window_display": false
  },
  "varInspector": {
   "cols": {
    "lenName": 16,
    "lenType": 16,
    "lenVar": 40
   },
   "kernels_config": {
    "python": {
     "delete_cmd_postfix": "",
     "delete_cmd_prefix": "del ",
     "library": "var_list.py",
     "varRefreshCmd": "print(var_dic_list())"
    },
    "r": {
     "delete_cmd_postfix": ") ",
     "delete_cmd_prefix": "rm(",
     "library": "var_list.r",
     "varRefreshCmd": "cat(var_dic_list()) "
    }
   },
   "position": {
    "height": "466.85px",
    "left": "1550px",
    "right": "20px",
    "top": "120px",
    "width": "350px"
   },
   "types_to_exclude": [
    "module",
    "function",
    "builtin_function_or_method",
    "instance",
    "_Feature"
   ],
   "window_display": true
  }
 },
 "nbformat": 4,
 "nbformat_minor": 4
}
